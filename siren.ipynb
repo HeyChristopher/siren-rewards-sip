{
 "cells": [
  {
   "cell_type": "code",
   "execution_count": null,
   "metadata": {},
   "outputs": [],
   "source": [
    "import matplotlib.pyplot as plt\n",
    "import numpy as np\n",
    "import pandas as pd"
   ]
  },
  {
   "cell_type": "code",
   "execution_count": null,
   "metadata": {},
   "outputs": [],
   "source": []
  },
  {
   "cell_type": "code",
   "execution_count": null,
   "metadata": {},
   "outputs": [],
   "source": [
    "def func_liquidity(x,steepness,spoint):\n",
    "    #returns SI rewards as % of max for relative liquidity of x (0% = minmum lqiuidity amount)\n",
    "    #steepness defines how quickly function rises from min to max\n",
    "    #spoint gives x value where s-shape functions has its deflection point\n",
    "    return 1/(1+np.exp(-steepness*(-x-spoint)))\n"
   ]
  },
  {
   "cell_type": "code",
   "execution_count": null,
   "metadata": {},
   "outputs": [],
   "source": [
    "def func_utilization(x,steepness,spoint, min_util):\n",
    "        #returns SI rewards as % of max for relative utilization of x (should be 0 for x<0 and 1 for x>1, but utilization should never be outside [0,1]\n",
    "        #steepness defines how quickly function rises from min to max\n",
    "        #spoint gives x value where s-shape functions has its deflection point\n",
    "        #min_util defines a given base-rate that is rewarded at all times (=minimum of function)\n",
    "        return 1/(1/(1-min_util)+np.exp(-steepness*(x-spoint))) + min_util"
   ]
  },
  {
   "cell_type": "code",
   "execution_count": null,
   "metadata": {},
   "outputs": [],
   "source": [
    "def func_agg(x,y,steepness_liq,spoint_liq,steepness_util,spoint_util,min_util):\n",
    "    #aggregate SI rewards for liquidity levels of x and utilization level y\n",
    "    #parameters as described before\n",
    "    #cap function at 1\n",
    "    aggvals=func_liquidity(x,steepness_liq,spoint_liq) + func_utilization(y,steepness_util,spoint_util, min_util)    \n",
    "    return np.minimum(aggvals,np.ones(aggvals.shape))"
   ]
  },
  {
   "cell_type": "code",
   "execution_count": null,
   "metadata": {},
   "outputs": [],
   "source": [
    "%matplotlib notebook\n",
    "\n",
    "x=np.arange(-1,2,0.01)\n",
    "y=np.arange(0,1,0.01)\n",
    "\n",
    "fig = plt.figure(figsize=(10,10))\n",
    "\n",
    "ax = fig.add_subplot(111, projection='3d')\n",
    "steepness_liq=50\n",
    "spoint_liq = 0\n",
    "steepness_util=10\n",
    "spoint_util = 0.5\n",
    "min_util = 0.2 #base rate\n",
    "\n",
    "X,Y = np.meshgrid(x,y)\n",
    "Z = func_agg(X,Y,steepness_liq,spoint_liq,steepness_util,spoint_util,min_util)\n",
    "\n",
    "ax.plot_surface(X, Y, Z, rstride=1,cstride=1,cmap='viridis')\n",
    "ax.set_xlabel('liquidity (0% = min liquidity)')\n",
    "ax.set_ylabel('utilization')\n",
    "ax.set_zlabel('Reward in % of max')\n",
    "ax.set_zlim(0,1)"
   ]
  },
  {
   "cell_type": "code",
   "execution_count": null,
   "metadata": {},
   "outputs": [],
   "source": []
  },
  {
   "cell_type": "code",
   "execution_count": null,
   "metadata": {},
   "outputs": [],
   "source": []
  },
  {
   "cell_type": "code",
   "execution_count": null,
   "metadata": {},
   "outputs": [],
   "source": []
  },
  {
   "cell_type": "code",
   "execution_count": null,
   "metadata": {},
   "outputs": [],
   "source": []
  }
 ],
 "metadata": {
  "kernelspec": {
   "display_name": "Python 3",
   "language": "python",
   "name": "python3"
  },
  "language_info": {
   "codemirror_mode": {
    "name": "ipython",
    "version": 3
   },
   "file_extension": ".py",
   "mimetype": "text/x-python",
   "name": "python",
   "nbconvert_exporter": "python",
   "pygments_lexer": "ipython3",
   "version": "3.8.5"
  }
 },
 "nbformat": 4,
 "nbformat_minor": 4
}
